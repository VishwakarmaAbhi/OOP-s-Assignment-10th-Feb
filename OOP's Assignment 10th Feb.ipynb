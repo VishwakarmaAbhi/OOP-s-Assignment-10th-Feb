{
 "cells": [
  {
   "cell_type": "markdown",
   "id": "1a7f43c1-12c5-4025-b632-2c2c87ffed8c",
   "metadata": {},
   "source": [
    "Q1. Which function is used to open a file? What are the different modes of opening a file? Explain each mode of file opening."
   ]
  },
  {
   "cell_type": "markdown",
   "id": "01f8f6c7-ef16-4f93-8ab8-f15c1073207b",
   "metadata": {},
   "source": [
    "In Python, the \"open()\" function is used to open a file. The \"open()\" function takes two main arguments: the file name and the mode in which the file should be opened. The mode determines the purpose for which the file is opened, such as reading, writing, or appending. Here are the different modes of opening a file and their explanations:\n",
    "\n",
    "1. \"r\" (read mode):\n",
    "\n",
    "* Opens the file for reading. The file pointer is placed at the beginning of the file.\n",
    "* If the file does not exist, a FileNotFoundError is raised.\n",
    "* Example: open(\"example.txt\", \"r\")\n",
    "\n",
    "\n",
    "2. \"w\" (write mode):\n",
    "\n",
    "* Opens the file for writing. If the file already exists, it is truncated to zero length (i.e., its content is deleted). If the file does not exist, a new file is created.\n",
    "* Example: open(\"example.txt\", \"w\")\n",
    "\n",
    "\n",
    "3. \"a\" (append mode):\n",
    "\n",
    "* Opens the file for appending. The file pointer is placed at the end of the file. If the file does not exist, a new file is created.\n",
    "* Example: open(\"example.txt\", \"a\")\n",
    "\n",
    "\n",
    "4. \"x\" (exclusive creation mode):\n",
    "\n",
    "* Opens the file for exclusive creation. If the file already exists, the operation fails with a FileExistsError.\n",
    "* Example: open(\"example.txt\", \"x\")\n",
    "\n",
    "\n",
    "5. \"b\" (binary mode):\n",
    "\n",
    "\n",
    "6. \"t\" (text mode):\n",
    "\n",
    "* This is the default mode. It is used to open the file in text mode. It can be combined with other modes (e.g., \"rt\" for reading in text mode, \"wt\" for writing in text mode).\n",
    "* Example: open(\"example.txt\", \"rt\")\n",
    "\n",
    "\n",
    "7. \"+\" (updating mode):\n",
    "\n",
    "* This mode is used to open the file for updating (both reading and writing). It can be combined with other modes (e.g., \"r+\" for reading and writing, \"w+\" for writing and reading, \"a+\" for appending and reading).\n",
    "\n",
    "* Example: open(\"example.txt\", \"r+\")\n",
    "\n",
    "Here are some combinations of modes and their explanations:\n",
    "\n",
    "* \"r+\": Opens the file for both reading and writing. The file pointer is placed at the beginning of the file. If the file does not exist, a FileNotFoundError is raised.\n",
    "\n",
    "* \"w+\": Opens the file for both reading and writing. If the file already exists, it is truncated to zero length. If the file does not exist, a new file is created.\n",
    "\n",
    "* \"a+\": Opens the file for both appending and reading. The file pointer is placed at the end of the file. If the file does not exist, a new file is created.\n",
    "\n",
    "Example usage of the open() function:"
   ]
  },
  {
   "cell_type": "raw",
   "id": "5367885c-968c-4560-a2cb-acb3bc08348b",
   "metadata": {},
   "source": [
    "# Open a file for reading\n",
    "with open(\"example.txt\", \"r\") as file:\n",
    "    content = file.read()\n",
    "\n",
    "# Open a file for writing\n",
    "with open(\"example.txt\", \"w\") as file:\n",
    "    file.write(\"Hello, world!\")\n",
    "\n",
    "# Open a file for appending\n",
    "with open(\"example.txt\", \"a\") as file:\n",
    "    file.write(\"\\nAppend this line.\")\n",
    "\n",
    "# Open a file for reading and writing\n",
    "with open(\"example.txt\", \"r+\") as file:\n",
    "    content = file.read()\n",
    "    file.write(\"\\nRead and write mode.\")\n"
   ]
  },
  {
   "cell_type": "markdown",
   "id": "53683dc9-7f4d-499e-9cc1-d61b573c5358",
   "metadata": {},
   "source": [
    "Q2. Why close() function is used? Why is it important to close a file?"
   ]
  },
  {
   "cell_type": "markdown",
   "id": "af24e22c-b4fb-489d-aa38-56b1cf131c92",
   "metadata": {},
   "source": [
    "Ans: The close() function is used to close an open file. It is important to close a file for several reasons:\n",
    "\n",
    "## 1. Resource Management:\n",
    "\n",
    "* When a file is opened, system resources are allocated to manage the file. These resources include file descriptors, memory, and buffers. Closing the file releases these resources, making them available for other processes and tasks.\n",
    "\n",
    "## 2. Data Integrity:\n",
    "\n",
    "* Closing a file ensures that all data written to the file is properly flushed from the buffer to the disk. This is crucial for maintaining data integrity, as any unwritten data in the buffer will be lost if the file is not closed properly.\n",
    "\n",
    "## 3. Avoiding Data Corruption:\n",
    "\n",
    "* If a file remains open for writing, especially for an extended period, there is a risk of data corruption if the program crashes or encounters an error. By closing the file, you minimize the risk of data corruption.\n",
    "\n",
    "## 4. Maximum Number of File Handles:\n",
    "\n",
    "* Operating systems have a limit on the number of files that can be open simultaneously. If you do not close files after use, you may exceed this limit, leading to errors when attempting to open new files.\n",
    "\n",
    "## 5. Consistency Across Platforms:\n",
    "\n",
    "* While some operating systems may automatically close files when a program terminates, relying on this behavior is not good practice. Explicitly closing files ensures consistent behavior across different platforms and environments.\n",
    "\n",
    "Here is an example demonstrating the use of the \"close()\" function:"
   ]
  },
  {
   "cell_type": "code",
   "execution_count": 5,
   "id": "da8ffde5-60f8-44f4-aac1-6967b1396b23",
   "metadata": {},
   "outputs": [],
   "source": [
    "# Open a file for writing\n",
    "file = open(\"example.txt\", \"w\")\n",
    "file.write(\"Hello, world!\")\n",
    "\n",
    "# Explicitly close the file\n",
    "file.close()\n",
    "\n",
    "\n",
    "#However, using the \"close()\" function manually can be error-prone, especially if the program encounters an error before reaching the \"close()\" call. To ensure that files are always closed properly, it is recommended to use the \"with\" statement, which automatically closes the file when the block of code is exited:"
   ]
  },
  {
   "cell_type": "code",
   "execution_count": 6,
   "id": "f958e817-8340-40c5-87ab-0b3f88989421",
   "metadata": {},
   "outputs": [],
   "source": [
    "# Open a file for writing using the with statement\n",
    "with open(\"example.txt\", \"w\") as file:\n",
    "    file.write(\"Hello, world!\")\n",
    "# File is automatically closed when the block is exited\n",
    "\n",
    "#Using the \"with\" statement provides a more robust and cleaner way to manage file operations, ensuring that resources are properly released and data integrity is maintained."
   ]
  },
  {
   "cell_type": "code",
   "execution_count": null,
   "id": "b9e2d426-ba11-4df7-a813-a8e5f961c810",
   "metadata": {},
   "outputs": [],
   "source": []
  },
  {
   "cell_type": "markdown",
   "id": "1c07e222-0fa0-441e-8e1a-4a55103692f7",
   "metadata": {},
   "source": [
    "Q3. Write a python program to create a text file. Write ‘I want to become a Data Scientist’ in that file. Then close the file. Open this file and read the content of the file."
   ]
  },
  {
   "cell_type": "markdown",
   "id": "951247a8-6b28-4860-8574-2002e6a3d68c",
   "metadata": {},
   "source": [
    "Ans: Here is a Python program to create a text file, write the string \"I want to become a Data Scientist\" to the file, close it, and then open the file to read its content:"
   ]
  },
  {
   "cell_type": "code",
   "execution_count": 7,
   "id": "344102cc-43f9-4954-ac2c-90ae123ddf80",
   "metadata": {},
   "outputs": [
    {
     "name": "stdout",
     "output_type": "stream",
     "text": [
      "I want to become a Data Scientist\n"
     ]
    }
   ],
   "source": [
    "# Create a text file and write to it\n",
    "with open(\"data_scientist.txt\", \"w\") as file:\n",
    "    file.write(\"I want to become a Data Scientist\")\n",
    "\n",
    "# Open the file and read the content\n",
    "with open(\"data_scientist.txt\", \"r\") as file:\n",
    "    content = file.read()\n",
    "\n",
    "# Print the content\n",
    "print(content)\n"
   ]
  },
  {
   "cell_type": "markdown",
   "id": "bc150ca5-0406-4c3a-85e4-bec37f0f1651",
   "metadata": {},
   "source": [
    "Explanation:\n",
    "\n",
    "1. The first \"with\" statement opens (or creates if it doesn't exist) a file named 'data_scientist.txt' in write mode ('\"w\"'). It writes the string \"I want to become a Data Scientist\" to the file and then automatically closes the file.\n",
    "\n",
    "2. The second \"with\" statement opens the same file in read mode (\"r\") and reads the content of the file into the variable \"content\". The file is then automatically closed.\n",
    "\n",
    "3. The content of the file is printed to the console.\n",
    "\n",
    "When you run this program, it will create a file named \"data_scientist.txt\", write the desired string to it, and then read and print the content of the file."
   ]
  },
  {
   "cell_type": "code",
   "execution_count": null,
   "id": "be10c415-2d66-423b-b8f1-b2a7937d4475",
   "metadata": {},
   "outputs": [],
   "source": []
  },
  {
   "cell_type": "markdown",
   "id": "2bd02aac-f930-42a6-9d79-364dcc210021",
   "metadata": {},
   "source": [
    "Q4. Explain the following with python code: read(), readline() and readlines()."
   ]
  },
  {
   "cell_type": "markdown",
   "id": "f0b87bbf-793e-428c-8d56-2910e742d81b",
   "metadata": {},
   "source": [
    "Ans: In Python, the read(), readline(), and readlines() methods are used to read data from a file, but they do so in different ways. Here is an explanation of each method along with example code:\n",
    "\n",
    "1. \"read()\"\n",
    "The \"read()\" method reads the entire content of the file (or a specified number of characters) and returns it as a string."
   ]
  },
  {
   "cell_type": "code",
   "execution_count": 8,
   "id": "5dc7002f-a79e-47c4-b80d-8d96e0ae5063",
   "metadata": {},
   "outputs": [
    {
     "name": "stdout",
     "output_type": "stream",
     "text": [
      "Using read():\n",
      "Hello, world!\n",
      "Welcome to Python file handling.\n",
      "Enjoy your stay!\n"
     ]
    }
   ],
   "source": [
    "# Write some content to a file\n",
    "with open(\"example.txt\", \"w\") as file:\n",
    "    file.write(\"Hello, world!\\nWelcome to Python file handling.\\nEnjoy your stay!\")\n",
    "\n",
    "# Read the entire content of the file\n",
    "with open(\"example.txt\", \"r\") as file:\n",
    "    content = file.read()\n",
    "\n",
    "print(\"Using read():\")\n",
    "print(content)\n"
   ]
  },
  {
   "cell_type": "markdown",
   "id": "88422122-a689-453a-8648-84ba17ec846b",
   "metadata": {},
   "source": [
    "2. \"readline()\"\n",
    "The \"readline()\" method reads one line from the file at a time. Each call to \"readline()\" returns the next line from the file until the end of the file is reached."
   ]
  },
  {
   "cell_type": "code",
   "execution_count": 9,
   "id": "0f86414c-3cb2-4aa9-a324-d4d878498581",
   "metadata": {},
   "outputs": [
    {
     "name": "stdout",
     "output_type": "stream",
     "text": [
      "Using readline():\n",
      "Hello, world!\n",
      "Welcome to Python file handling.\n"
     ]
    }
   ],
   "source": [
    "# Read the file line by line using readline()\n",
    "with open(\"example.txt\", \"r\") as file:\n",
    "    first_line = file.readline()\n",
    "    second_line = file.readline()\n",
    "\n",
    "print(\"Using readline():\")\n",
    "print(first_line, end='')  # end='' to avoid adding an extra newline\n",
    "print(second_line, end='')\n"
   ]
  },
  {
   "cell_type": "markdown",
   "id": "b0521cb8-8e70-4f16-9f22-ef6c98adc68c",
   "metadata": {},
   "source": [
    "3. \"readlines()\"\n",
    "The \"readlines()\" method reads all the lines in the file and returns them as a list of strings, where each string is a line from the file."
   ]
  },
  {
   "cell_type": "code",
   "execution_count": 10,
   "id": "654292b7-2878-49bc-95af-63dae8443ae1",
   "metadata": {},
   "outputs": [
    {
     "name": "stdout",
     "output_type": "stream",
     "text": [
      "Using readlines():\n",
      "Hello, world!\n",
      "Welcome to Python file handling.\n",
      "Enjoy your stay!"
     ]
    }
   ],
   "source": [
    "# Read all lines in the file using readlines()\n",
    "with open(\"example.txt\", \"r\") as file:\n",
    "    lines = file.readlines()\n",
    "\n",
    "print(\"Using readlines():\")\n",
    "for line in lines:\n",
    "    print(line, end='')\n"
   ]
  },
  {
   "cell_type": "markdown",
   "id": "f5b63fdc-73ab-4db6-8ccb-154c1fc556cb",
   "metadata": {},
   "source": [
    "Full Example Code:\n",
    "Here is a complete code snippet that includes writing to the file and demonstrating all three methods:\n",
    "\n"
   ]
  },
  {
   "cell_type": "code",
   "execution_count": 11,
   "id": "8d3bd78e-9543-4d25-8434-593875ca6266",
   "metadata": {},
   "outputs": [
    {
     "name": "stdout",
     "output_type": "stream",
     "text": [
      "Using read():\n",
      "Hello, world!\n",
      "Welcome to Python file handling.\n",
      "Enjoy your stay!\n",
      "\n",
      "Using readline():\n",
      "Hello, world!\n",
      "Welcome to Python file handling.\n",
      "\n",
      "Using readlines():\n",
      "Hello, world!\n",
      "Welcome to Python file handling.\n",
      "Enjoy your stay!"
     ]
    }
   ],
   "source": [
    "# Write some content to a file\n",
    "with open(\"example.txt\", \"w\") as file:\n",
    "    file.write(\"Hello, world!\\nWelcome to Python file handling.\\nEnjoy your stay!\")\n",
    "\n",
    "# Using read() to read the entire content of the file\n",
    "with open(\"example.txt\", \"r\") as file:\n",
    "    content = file.read()\n",
    "print(\"Using read():\")\n",
    "print(content)\n",
    "\n",
    "# Using readline() to read the file line by line\n",
    "with open(\"example.txt\", \"r\") as file:\n",
    "    first_line = file.readline()\n",
    "    second_line = file.readline()\n",
    "print(\"\\nUsing readline():\")\n",
    "print(first_line, end='')  # end='' to avoid adding an extra newline\n",
    "print(second_line, end='')\n",
    "\n",
    "# Using readlines() to read all lines in the file\n",
    "with open(\"example.txt\", \"r\") as file:\n",
    "    lines = file.readlines()\n",
    "print(\"\\nUsing readlines():\")\n",
    "for line in lines:\n",
    "    print(line, end='')\n"
   ]
  },
  {
   "cell_type": "markdown",
   "id": "38608e77-c857-4b28-baa7-7bf5b53c859c",
   "metadata": {},
   "source": [
    "Explanation:\n",
    "\n",
    "* The \"read()\" method reads the entire file content and prints it.\n",
    "* The \"readline()\" method reads the file line by line, demonstrating how to get individual lines one at a time.\n",
    "* The \"readlines()\" method reads all the lines at once and stores them in a list, allowing iteration over each line.\n",
    "\n",
    "This code will output the content of \"example.txt\" using the three different methods for reading a file in Python."
   ]
  },
  {
   "cell_type": "markdown",
   "id": "02a0c4f3-70a0-46c3-80d7-bb7d5e8f82d8",
   "metadata": {},
   "source": []
  },
  {
   "cell_type": "markdown",
   "id": "df9904f5-ac0c-4862-8b70-61cf864a37aa",
   "metadata": {},
   "source": [
    "Q5. Explain why with statement is used with open(). What is the advantage of using with statement and open() together?"
   ]
  },
  {
   "cell_type": "markdown",
   "id": "b7379ff7-6810-49c7-baea-7032453040c2",
   "metadata": {},
   "source": [
    "Ans: The \"with\" statement is used in Python for resource management and ensures that resources are properly acquired and released. When used with \"open()\", the \"with\" statement provides a way to automatically handle the opening and closing of files. Here are the key reasons and advantages of using the \"with' statement with \"open()\":\n",
    "\n",
    "1. Automatic Resource Management\n",
    "The \"with\" statement ensures that the file is properly closed after its suite (block of code) finishes, even if an exception occurs within that block. This prevents resource leaks and guarantees that the file is always closed properly.\n",
    "\n",
    "2. Simplified Code\n",
    "Using the \"with\" statement simplifies the code by removing the need to explicitly close the file using \"file.close()\". This makes the code more concise and easier to read.\n",
    "\n",
    "3. Exception Handling\n",
    "If an exception occurs within the \"with\" block, the \"with\" statement ensures that the file is closed before the exception is propagated. This is important for maintaining data integrity and avoiding potential file corruption.\n",
    "\n",
    "Example Without \"with\" Statement\n",
    "\n",
    "Here is how you would handle file operations without using the with statement:\n",
    "\n",
    "\n"
   ]
  },
  {
   "cell_type": "code",
   "execution_count": 12,
   "id": "bccc9969-8624-48bb-8be6-95c9e2f9629e",
   "metadata": {},
   "outputs": [],
   "source": [
    "file = open(\"example.txt\", \"w\")\n",
    "try:\n",
    "    file.write(\"Hello, world!\")\n",
    "finally:\n",
    "    file.close()\n",
    "    \n",
    "    \n"
   ]
  },
  {
   "cell_type": "markdown",
   "id": "2e8af199-58bd-4cee-b911-6becf73530cd",
   "metadata": {},
   "source": [
    "In this example:\n",
    "\n",
    "* The \"file.close()\" method is called within a \"finally\" block to ensure the file is closed even if an exception occurs"
   ]
  },
  {
   "cell_type": "markdown",
   "id": "ee250410-4e2e-4e21-b0e5-5df82a73e5aa",
   "metadata": {},
   "source": [
    "Example With \"with\" Statement\n",
    "Here is the same operation using the \"with\" statement:"
   ]
  },
  {
   "cell_type": "code",
   "execution_count": 13,
   "id": "8f171d61-b631-4236-a9b5-0ab65c5936df",
   "metadata": {},
   "outputs": [],
   "source": [
    "with open(\"example.txt\", \"w\") as file:\n",
    "    file.write(\"Hello, world!\")"
   ]
  },
  {
   "cell_type": "markdown",
   "id": "969c1b4a-46cc-4d99-9fa5-d7ef9b594996",
   "metadata": {},
   "source": [
    "In this example:\n",
    "\n",
    "* The \"with\" statement automatically handles opening and closing the file.\n",
    "* There is no need for an explicit \"file.close()\" call.\n",
    "* The code is more concise and readable.\n",
    "\n",
    "\n",
    "## Advantages of Using \"with\" Statement with \"open()\"\n",
    "\n",
    "1. Automatic Cleanup: The \"with\" statement ensures that the file is closed as soon as the block of code is exited, regardless of how the block is exited (whether normally or via an exception).\n",
    "2. Readability and Conciseness: The \"with\" statement makes the code cleaner and easier to understand by reducing boilerplate code associated with opening and closing files.\n",
    "3. Exception Safety: The \"with\" statement provides a built-in mechanism for managing exceptions and ensuring that resources are cleaned up properly.\n",
    "\n",
    "\n",
    "## Conclusion\n",
    "\n",
    "Using the \"with\" statement with \"open()\" is a best practice in Python for handling files. It ensures that files are properly closed after their use, which prevents resource leaks and potential data corruption. This makes the code more robust, readable, and easier to maintain."
   ]
  },
  {
   "cell_type": "code",
   "execution_count": null,
   "id": "a3dc4eaf-c0bc-4aa0-9c9f-d319a0e294ab",
   "metadata": {},
   "outputs": [],
   "source": []
  },
  {
   "cell_type": "markdown",
   "id": "0dc712cf-c645-4c22-ac31-4f8e9e3adee3",
   "metadata": {},
   "source": [
    "Q6. Explain the write() and writelines() functions. Give a suitable example."
   ]
  },
  {
   "cell_type": "markdown",
   "id": "e0c5578f-e49a-44c9-b54a-740c7d469601",
   "metadata": {},
   "source": [
    "Ans: The \"write()\" and \"writelines()\" functions in Python are used to write data to a file. They serve different purposes and are used in different contexts. Here’s an explanation of each, along with suitable examples.\n",
    "\n",
    "\"write()\"\n",
    "The \"write()\" method writes a single string to a file. It does not add a newline character at the end, so if you need each write to be on a new line, you must include newline characters ('\\n') in your strings."
   ]
  },
  {
   "cell_type": "code",
   "execution_count": 14,
   "id": "3afd2423-1e04-4c90-8bea-c112f633e0da",
   "metadata": {},
   "outputs": [
    {
     "name": "stdout",
     "output_type": "stream",
     "text": [
      "Hello, world!\n",
      "Welcome to Python file handling.\n",
      "Enjoy your stay!\n"
     ]
    }
   ],
   "source": [
    "# Open a file in write mode\n",
    "with open(\"example_write.txt\", \"w\") as file:\n",
    "    file.write(\"Hello, world!\\n\")\n",
    "    file.write(\"Welcome to Python file handling.\\n\")\n",
    "    file.write(\"Enjoy your stay!\")\n",
    "\n",
    "# Open the file in read mode to verify content\n",
    "with open(\"example_write.txt\", \"r\") as file:\n",
    "    content = file.read()\n",
    "    print(content)\n"
   ]
  },
  {
   "cell_type": "markdown",
   "id": "2edfe724-f783-404b-939c-eb9f8d019c91",
   "metadata": {},
   "source": [
    "Explanation:\n",
    " \n",
    "* The *write()* method is used three times to write three different lines to the file.\n",
    "* Each string passed to \"write()\" includes a newline character (\\n) at the end to ensure each line appears on a new line in the file.\n",
    "\n",
    "\"writelines()\"\n",
    "The \"writelines()\" method takes an iterable (e.g., a list) of strings and writes each string to the file. Unlike 'write()', 'writelines()' does not add newline characters automatically, so each string should include newline characters if you want them to be on separate lines."
   ]
  },
  {
   "cell_type": "code",
   "execution_count": 15,
   "id": "fe73aa60-aacb-42f2-aa49-b674ad907307",
   "metadata": {},
   "outputs": [
    {
     "name": "stdout",
     "output_type": "stream",
     "text": [
      "Hello, world!\n",
      "Welcome to Python file handling.\n",
      "Enjoy your stay!\n",
      "\n"
     ]
    }
   ],
   "source": [
    "lines = [\n",
    "    \"Hello, world!\\n\",\n",
    "    \"Welcome to Python file handling.\\n\",\n",
    "    \"Enjoy your stay!\\n\"\n",
    "]\n",
    "\n",
    "# Open a file in write mode\n",
    "with open(\"example_writelines.txt\", \"w\") as file:\n",
    "    file.writelines(lines)\n",
    "\n",
    "# Open the file in read mode to verify content\n",
    "with open(\"example_writelines.txt\", \"r\") as file:\n",
    "    content = file.read()\n",
    "    print(content)\n"
   ]
  },
  {
   "cell_type": "markdown",
   "id": "e352af95-49b7-4a3e-a8e2-46af945f5104",
   "metadata": {},
   "source": [
    "# Explanation:\n",
    "* A list of strings, lines, is created, with each string ending with a newline character (\\n).\n",
    "* The writelines() method writes all the strings in the list to the file in one go.\n",
    "\n",
    "# Comparison:\n",
    "* 'write()' is used to write a single string to a file.\n",
    "* 'writelines()' is used to write a sequence of strings to a file.\n",
    "\n",
    "Full Example with Both Methods:\n",
    "Here is a complete example demonstrating both methods in one script:"
   ]
  },
  {
   "cell_type": "code",
   "execution_count": 17,
   "id": "8c24545d-b143-423a-8716-5aa9f7d75e53",
   "metadata": {},
   "outputs": [
    {
     "name": "stdout",
     "output_type": "stream",
     "text": [
      "Content written by write():\n",
      "Hello, world!\n",
      "Welcome to Python file handling.\n",
      "Enjoy your stay!\n",
      "Content written by writelines():\n",
      "Hello, world!\n",
      "Welcome to Python file handling.\n",
      "Enjoy your stay!\n",
      "\n"
     ]
    }
   ],
   "source": [
    "# Using write()\n",
    "with open(\"example_write.txt\", \"w\") as file:\n",
    "    file.write(\"Hello, world!\\n\")\n",
    "    file.write(\"Welcome to Python file handling.\\n\")\n",
    "    file.write(\"Enjoy your stay!\")\n",
    "\n",
    "# Verify content written by write()\n",
    "with open(\"example_write.txt\", \"r\") as file:\n",
    "    content = file.read()\n",
    "    print(\"Content written by write():\")\n",
    "    print(content)\n",
    "\n",
    "# Using writelines()\n",
    "lines = [\n",
    "    \"Hello, world!\\n\",\n",
    "    \"Welcome to Python file handling.\\n\",\n",
    "    \"Enjoy your stay!\\n\"\n",
    "]\n",
    "\n",
    "with open(\"example_writelines.txt\", \"w\") as file:\n",
    "    file.writelines(lines)\n",
    "\n",
    "# Verify content written by writelines()\n",
    "with open(\"example_writelines.txt\", \"r\") as file:\n",
    "    content = file.read()\n",
    "    print(\"Content written by writelines():\")\n",
    "    print(content)\n",
    "\n",
    "    \n",
    "# This script will create two files, \"example_write.txt\" and \"example_writelines.txt\", each containing the same content but written using different methods. The output in both cases will be:"
   ]
  },
  {
   "cell_type": "code",
   "execution_count": null,
   "id": "08181b0a-5be9-4288-8586-fa015713777d",
   "metadata": {},
   "outputs": [],
   "source": []
  }
 ],
 "metadata": {
  "kernelspec": {
   "display_name": "Python 3 (ipykernel)",
   "language": "python",
   "name": "python3"
  },
  "language_info": {
   "codemirror_mode": {
    "name": "ipython",
    "version": 3
   },
   "file_extension": ".py",
   "mimetype": "text/x-python",
   "name": "python",
   "nbconvert_exporter": "python",
   "pygments_lexer": "ipython3",
   "version": "3.10.8"
  }
 },
 "nbformat": 4,
 "nbformat_minor": 5
}
